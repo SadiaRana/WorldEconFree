{
 "cells": [
  {
   "cell_type": "code",
   "execution_count": 45,
   "metadata": {
    "collapsed": true
   },
   "outputs": [],
   "source": [
    "import pandas as pd\n",
    "import numpy as np\n",
    "\n",
    "df = pd.read_csv('economic_freedom_index2019_data.csv', encoding='latin-1')\n",
    "\n",
    "df = df.dropna()"
   ]
  },
  {
   "cell_type": "code",
   "execution_count": 5,
   "metadata": {
    "scrolled": true
   },
   "outputs": [
    {
     "data": {
      "text/html": [
       "<div>\n",
       "<style>\n",
       "    .dataframe thead tr:only-child th {\n",
       "        text-align: right;\n",
       "    }\n",
       "\n",
       "    .dataframe thead th {\n",
       "        text-align: left;\n",
       "    }\n",
       "\n",
       "    .dataframe tbody tr th {\n",
       "        vertical-align: top;\n",
       "    }\n",
       "</style>\n",
       "<table border=\"1\" class=\"dataframe\">\n",
       "  <thead>\n",
       "    <tr style=\"text-align: right;\">\n",
       "      <th></th>\n",
       "      <th>CountryID</th>\n",
       "      <th>Country Name</th>\n",
       "      <th>WEBNAME</th>\n",
       "      <th>Region</th>\n",
       "      <th>World Rank</th>\n",
       "      <th>Region Rank</th>\n",
       "      <th>2019 Score</th>\n",
       "      <th>Property Rights</th>\n",
       "      <th>Judical Effectiveness</th>\n",
       "      <th>Government Integrity</th>\n",
       "      <th>...</th>\n",
       "      <th>Country</th>\n",
       "      <th>Population (Millions)</th>\n",
       "      <th>GDP (Billions, PPP)</th>\n",
       "      <th>GDP Growth Rate (%)</th>\n",
       "      <th>5 Year GDP Growth Rate (%)</th>\n",
       "      <th>GDP per Capita (PPP)</th>\n",
       "      <th>Unemployment (%)</th>\n",
       "      <th>Inflation (%)</th>\n",
       "      <th>FDI Inflow (Millions)</th>\n",
       "      <th>Public Debt (% of GDP)</th>\n",
       "    </tr>\n",
       "  </thead>\n",
       "  <tbody>\n",
       "    <tr>\n",
       "      <th>0</th>\n",
       "      <td>1</td>\n",
       "      <td>Afghanistan</td>\n",
       "      <td>Afghanistan</td>\n",
       "      <td>Asia-Pacific</td>\n",
       "      <td>152.0</td>\n",
       "      <td>39.0</td>\n",
       "      <td>51.5</td>\n",
       "      <td>19.6</td>\n",
       "      <td>29.6</td>\n",
       "      <td>25.2</td>\n",
       "      <td>...</td>\n",
       "      <td>Afghanistan</td>\n",
       "      <td>35.5</td>\n",
       "      <td>$69.6</td>\n",
       "      <td>2.5</td>\n",
       "      <td>2.9</td>\n",
       "      <td>$1,958</td>\n",
       "      <td>8.8</td>\n",
       "      <td>5.0</td>\n",
       "      <td>53.9</td>\n",
       "      <td>7.3</td>\n",
       "    </tr>\n",
       "    <tr>\n",
       "      <th>1</th>\n",
       "      <td>2</td>\n",
       "      <td>Albania</td>\n",
       "      <td>Albania</td>\n",
       "      <td>Europe</td>\n",
       "      <td>52.0</td>\n",
       "      <td>27.0</td>\n",
       "      <td>66.5</td>\n",
       "      <td>54.8</td>\n",
       "      <td>30.6</td>\n",
       "      <td>40.4</td>\n",
       "      <td>...</td>\n",
       "      <td>Albania</td>\n",
       "      <td>2.9</td>\n",
       "      <td>$36.0</td>\n",
       "      <td>3.9</td>\n",
       "      <td>2.5</td>\n",
       "      <td>$12,507</td>\n",
       "      <td>13.9</td>\n",
       "      <td>2.0</td>\n",
       "      <td>1,119.1</td>\n",
       "      <td>71.2</td>\n",
       "    </tr>\n",
       "    <tr>\n",
       "      <th>2</th>\n",
       "      <td>3</td>\n",
       "      <td>Algeria</td>\n",
       "      <td>Algeria</td>\n",
       "      <td>Middle East and North Africa</td>\n",
       "      <td>171.0</td>\n",
       "      <td>14.0</td>\n",
       "      <td>46.2</td>\n",
       "      <td>31.6</td>\n",
       "      <td>36.2</td>\n",
       "      <td>28.9</td>\n",
       "      <td>...</td>\n",
       "      <td>Algeria</td>\n",
       "      <td>41.5</td>\n",
       "      <td>$632.9</td>\n",
       "      <td>2.0</td>\n",
       "      <td>3.1</td>\n",
       "      <td>$15,237</td>\n",
       "      <td>10.0</td>\n",
       "      <td>5.6</td>\n",
       "      <td>1,203.0</td>\n",
       "      <td>25.8</td>\n",
       "    </tr>\n",
       "    <tr>\n",
       "      <th>3</th>\n",
       "      <td>4</td>\n",
       "      <td>Angola</td>\n",
       "      <td>Angola</td>\n",
       "      <td>Sub-Saharan Africa</td>\n",
       "      <td>156.0</td>\n",
       "      <td>33.0</td>\n",
       "      <td>50.6</td>\n",
       "      <td>35.9</td>\n",
       "      <td>26.6</td>\n",
       "      <td>20.5</td>\n",
       "      <td>...</td>\n",
       "      <td>Angola</td>\n",
       "      <td>28.2</td>\n",
       "      <td>$190.3</td>\n",
       "      <td>0.7</td>\n",
       "      <td>2.9</td>\n",
       "      <td>$6,753</td>\n",
       "      <td>8.2</td>\n",
       "      <td>31.7</td>\n",
       "      <td>-2,254.5</td>\n",
       "      <td>65.3</td>\n",
       "    </tr>\n",
       "    <tr>\n",
       "      <th>4</th>\n",
       "      <td>5</td>\n",
       "      <td>Argentina</td>\n",
       "      <td>Argentina</td>\n",
       "      <td>Americas</td>\n",
       "      <td>148.0</td>\n",
       "      <td>26.0</td>\n",
       "      <td>52.2</td>\n",
       "      <td>47.8</td>\n",
       "      <td>44.5</td>\n",
       "      <td>33.5</td>\n",
       "      <td>...</td>\n",
       "      <td>Argentina</td>\n",
       "      <td>44.1</td>\n",
       "      <td>$920.2</td>\n",
       "      <td>2.9</td>\n",
       "      <td>0.7</td>\n",
       "      <td>$20,876</td>\n",
       "      <td>8.7</td>\n",
       "      <td>25.7</td>\n",
       "      <td>11,857.0</td>\n",
       "      <td>52.6</td>\n",
       "    </tr>\n",
       "  </tbody>\n",
       "</table>\n",
       "<p>5 rows × 34 columns</p>\n",
       "</div>"
      ],
      "text/plain": [
       "   CountryID Country Name      WEBNAME                        Region  \\\n",
       "0          1  Afghanistan  Afghanistan                  Asia-Pacific   \n",
       "1          2      Albania      Albania                        Europe   \n",
       "2          3      Algeria      Algeria  Middle East and North Africa   \n",
       "3          4       Angola       Angola            Sub-Saharan Africa   \n",
       "4          5    Argentina    Argentina                      Americas   \n",
       "\n",
       "   World Rank  Region Rank  2019 Score  Property Rights  \\\n",
       "0       152.0         39.0        51.5             19.6   \n",
       "1        52.0         27.0        66.5             54.8   \n",
       "2       171.0         14.0        46.2             31.6   \n",
       "3       156.0         33.0        50.6             35.9   \n",
       "4       148.0         26.0        52.2             47.8   \n",
       "\n",
       "   Judical Effectiveness  Government Integrity           ...            \\\n",
       "0                   29.6                  25.2           ...             \n",
       "1                   30.6                  40.4           ...             \n",
       "2                   36.2                  28.9           ...             \n",
       "3                   26.6                  20.5           ...             \n",
       "4                   44.5                  33.5           ...             \n",
       "\n",
       "       Country  Population (Millions)  GDP (Billions, PPP)  \\\n",
       "0  Afghanistan                   35.5               $69.6    \n",
       "1      Albania                    2.9               $36.0    \n",
       "2      Algeria                   41.5              $632.9    \n",
       "3       Angola                   28.2              $190.3    \n",
       "4    Argentina                   44.1              $920.2    \n",
       "\n",
       "   GDP Growth Rate (%)  5 Year GDP Growth Rate (%)  GDP per Capita (PPP)  \\\n",
       "0                  2.5                         2.9                $1,958   \n",
       "1                  3.9                         2.5               $12,507   \n",
       "2                  2.0                         3.1               $15,237   \n",
       "3                  0.7                         2.9                $6,753   \n",
       "4                  2.9                         0.7               $20,876   \n",
       "\n",
       "   Unemployment (%)  Inflation (%)  FDI Inflow (Millions)  \\\n",
       "0               8.8            5.0                   53.9   \n",
       "1              13.9            2.0                1,119.1   \n",
       "2              10.0            5.6                1,203.0   \n",
       "3               8.2           31.7               -2,254.5   \n",
       "4               8.7           25.7               11,857.0   \n",
       "\n",
       "   Public Debt (% of GDP)  \n",
       "0                     7.3  \n",
       "1                    71.2  \n",
       "2                    25.8  \n",
       "3                    65.3  \n",
       "4                    52.6  \n",
       "\n",
       "[5 rows x 34 columns]"
      ]
     },
     "execution_count": 5,
     "metadata": {},
     "output_type": "execute_result"
    }
   ],
   "source": [
    "df.head()"
   ]
  },
  {
   "cell_type": "code",
   "execution_count": 104,
   "metadata": {},
   "outputs": [
    {
     "data": {
      "text/plain": [
       "dtype('float64')"
      ]
     },
     "execution_count": 104,
     "metadata": {},
     "output_type": "execute_result"
    }
   ],
   "source": [
    "#1st: GDP per capita with population and debt  \n",
    "\n",
    "df_1 = df[['Country', 'Region', 'Population (Millions)', 'GDP per Capita (PPP)']].copy()\n",
    "df_1.columns = ['Country', 'Region', 'Pop', 'GDPPC']\n",
    "df_1['GDPPC'] = df_1.GDPPC.apply(lambda x: x.strip('$'))\n",
    "df_1['GDPPC'] = df_1['GDPPC'].str.strip()\n",
    "df_1 = pd.to_numeric(df_1['Pop'])\n",
    "df_1 = pd.to_numeric(df_1['GDPPC'])\n",
    "\n",
    "df_1.dtypes"
   ]
  },
  {
   "cell_type": "code",
   "execution_count": 108,
   "metadata": {},
   "outputs": [
    {
     "ename": "AttributeError",
     "evalue": "module 'matplotlib' has no attribute 'title'",
     "output_type": "error",
     "traceback": [
      "\u001b[0;31m---------------------------------------------------------------------------\u001b[0m",
      "\u001b[0;31mAttributeError\u001b[0m                            Traceback (most recent call last)",
      "\u001b[0;32m<ipython-input-108-71d3c4cdeb74>\u001b[0m in \u001b[0;36m<module>\u001b[0;34m()\u001b[0m\n\u001b[1;32m      3\u001b[0m \u001b[0;34m\u001b[0m\u001b[0m\n\u001b[1;32m      4\u001b[0m \u001b[0mdf_1\u001b[0m\u001b[0;34m.\u001b[0m\u001b[0mplot\u001b[0m\u001b[0;34m(\u001b[0m\u001b[0mx\u001b[0m\u001b[0;34m=\u001b[0m\u001b[0;34m'Pop'\u001b[0m\u001b[0;34m,\u001b[0m\u001b[0my\u001b[0m\u001b[0;34m=\u001b[0m\u001b[0;34m'GDPPC'\u001b[0m\u001b[0;34m)\u001b[0m\u001b[0;34m\u001b[0m\u001b[0m\n\u001b[0;32m----> 5\u001b[0;31m \u001b[0mplt\u001b[0m\u001b[0;34m.\u001b[0m\u001b[0mtitle\u001b[0m\u001b[0;34m(\u001b[0m\u001b[0;34m'GDP per capita per population'\u001b[0m\u001b[0;34m)\u001b[0m\u001b[0;34m\u001b[0m\u001b[0m\n\u001b[0m\u001b[1;32m      6\u001b[0m \u001b[0mplt\u001b[0m\u001b[0;34m.\u001b[0m\u001b[0mxlabel\u001b[0m\u001b[0;34m(\u001b[0m\u001b[0;34m'Population in million'\u001b[0m\u001b[0;34m)\u001b[0m\u001b[0;34m\u001b[0m\u001b[0m\n\u001b[1;32m      7\u001b[0m \u001b[0mplt\u001b[0m\u001b[0;34m.\u001b[0m\u001b[0mylabel\u001b[0m\u001b[0;34m(\u001b[0m\u001b[0;34m'GDP per Capita'\u001b[0m\u001b[0;34m)\u001b[0m\u001b[0;34m\u001b[0m\u001b[0m\n",
      "\u001b[0;31mAttributeError\u001b[0m: module 'matplotlib' has no attribute 'title'"
     ]
    },
    {
     "data": {
      "image/png": "[encoded data removed]",
      "text/plain": [
       "<matplotlib.figure.Figure at 0x111fe7470>"
      ]
     },
     "metadata": {},
     "output_type": "display_data"
    }
   ],
   "source": [
    "import matplotlib as plt\n",
    "%matplotlib inline\n",
    "\n",
    "df_1.plot(x='Pop',y='GDPPC')\n",
    "plt.title('GDP per capita per population')  \n",
    "plt.xlabel('Population in million')  \n",
    "plt.ylabel('GDP per Capita')\n",
    "plt.show();"
   ]
  },
  {
   "cell_type": "markdown",
   "metadata": {},
   "source": [
    "This means that there does not seem to be a correlation between the population and GDP per capita"
   ]
  },
  {
   "cell_type": "code",
   "execution_count": 29,
   "metadata": {
    "collapsed": true
   },
   "outputs": [],
   "source": [
    "#2nd: Inflation compared to debt and \n",
    "\n",
    "df_2 = df['Country', 'Region','Inflation (%)', 'Public Debt (% of GDP)'].copy() \n",
    "\n"
   ]
  },
  {
   "cell_type": "code",
   "execution_count": null,
   "metadata": {
    "collapsed": true
   },
   "outputs": [],
   "source": [
    "#3rd: FDI and debt and world rank\n",
    "\n",
    "df_3 = df['Country', 'Region','FDI Inflow (Millions)', 'Public Debt (% of GDP)'].copy()\n",
    "\n"
   ]
  }
 ],
 "metadata": {
  "kernelspec": {
   "display_name": "Python 3",
   "language": "python",
   "name": "python3"
  },
  "language_info": {
   "codemirror_mode": {
    "name": "ipython",
    "version": 3
   },
   "file_extension": ".py",
   "mimetype": "text/x-python",
   "name": "python",
   "nbconvert_exporter": "python",
   "pygments_lexer": "ipython3",
   "version": "3.6.3"
  }
 },
 "nbformat": 4,
 "nbformat_minor": 2
}
